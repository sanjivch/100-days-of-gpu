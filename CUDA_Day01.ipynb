{
  "nbformat": 4,
  "nbformat_minor": 0,
  "metadata": {
    "colab": {
      "provenance": [],
      "gpuType": "T4"
    },
    "kernelspec": {
      "name": "python3",
      "display_name": "Python 3"
    },
    "language_info": {
      "name": "python"
    },
    "accelerator": "GPU"
  },
  "cells": [
    {
      "cell_type": "code",
      "execution_count": 1,
      "metadata": {
        "colab": {
          "base_uri": "https://localhost:8080/"
        },
        "id": "8OVXBRUJnO83",
        "outputId": "205cb8d8-6ebf-4d4e-8ab8-ab297ac9dcd7"
      },
      "outputs": [
        {
          "output_type": "stream",
          "name": "stdout",
          "text": [
            "Python 3.11.11\n",
            "nvcc: NVIDIA (R) Cuda compiler driver\n",
            "Copyright (c) 2005-2023 NVIDIA Corporation\n",
            "Built on Tue_Aug_15_22:02:13_PDT_2023\n",
            "Cuda compilation tools, release 12.2, V12.2.140\n",
            "Build cuda_12.2.r12.2/compiler.33191640_0\n",
            "Collecting nvcc4jupyter\n",
            "  Downloading nvcc4jupyter-1.2.1-py3-none-any.whl.metadata (5.1 kB)\n",
            "Downloading nvcc4jupyter-1.2.1-py3-none-any.whl (10 kB)\n",
            "Installing collected packages: nvcc4jupyter\n",
            "Successfully installed nvcc4jupyter-1.2.1\n"
          ]
        }
      ],
      "source": [
        "!python --version\n",
        "!nvcc --version\n",
        "!pip install nvcc4jupyter"
      ]
    },
    {
      "cell_type": "markdown",
      "source": [
        "Day 01 -\n",
        "\n",
        "Source: https://youtu.be/xwbD6fL5qC8?si=AMnLfVoWYBRHiN3y\n",
        "\n",
        "1. Kernel -> Several threads\n",
        "2. Grids -> Blocks -> Threads :: GPU -> SM -> SP\n",
        "\n"
      ],
      "metadata": {
        "id": "A7T1n9-Lt8cA"
      }
    },
    {
      "cell_type": "code",
      "source": [
        "%load_ext nvcc4jupyter"
      ],
      "metadata": {
        "colab": {
          "base_uri": "https://localhost:8080/"
        },
        "id": "snxoih3DndLA",
        "outputId": "fda200bc-09f6-4724-9e07-3f1485908fa0"
      },
      "execution_count": 2,
      "outputs": [
        {
          "output_type": "stream",
          "name": "stdout",
          "text": [
            "Detected platform \"Colab\". Running its setup...\n",
            "Source files will be saved in \"/tmp/tmpini9yd5e\".\n"
          ]
        }
      ]
    },
    {
      "cell_type": "code",
      "source": [
        "%%cuda\n",
        "#include <stdio.h>\n",
        "__global__ void hello(){\n",
        "  printf(\"Hello from block: %u, thread: %u\\n\", blockIdx.x, threadIdx.x);\n",
        "}\n",
        "\n",
        "int main(){\n",
        "  hello<<<2, 2>>>();\n",
        "  cudaDeviceSynchronize();\n",
        "}"
      ],
      "metadata": {
        "colab": {
          "base_uri": "https://localhost:8080/"
        },
        "id": "jbR9LAmtni1p",
        "outputId": "a39542c4-28e1-4d42-d3ae-3d726c2a2782"
      },
      "execution_count": 4,
      "outputs": [
        {
          "output_type": "stream",
          "name": "stdout",
          "text": [
            "Hello from block: 1, thread: 0\n",
            "Hello from block: 1, thread: 1\n",
            "Hello from block: 0, thread: 0\n",
            "Hello from block: 0, thread: 1\n",
            "\n"
          ]
        }
      ]
    },
    {
      "cell_type": "code",
      "source": [],
      "metadata": {
        "id": "TcMRF7-3qsyt"
      },
      "execution_count": null,
      "outputs": []
    },
    {
      "cell_type": "markdown",
      "source": [
        "Kernel basics\n",
        "1. Allocate memory on host\n",
        "2. Copy from host to device\n",
        "3. Launch kernel\n",
        "4. Copy from device to host\n",
        "5. Free resources"
      ],
      "metadata": {
        "id": "vf8b8bfBqtgr"
      }
    },
    {
      "cell_type": "code",
      "source": [
        "%%cuda\n",
        "#include <iostream>\n",
        "\n",
        "__global__ void vecAdd(const float* A, const float* B, float* C, int N) {\n",
        "\n",
        "    int idx = blockIdx.x * blockDim.x + threadIdx.x;\n",
        "\n",
        "    if (idx < N){\n",
        "        C[idx] = A[idx] + B[idx];\n",
        "    }\n",
        "\n",
        "\n",
        "}\n",
        "\n",
        "\n",
        "\n",
        "\n",
        "int main(){\n",
        "\n",
        "    const int N = 1024;\n",
        "    const int size = N * sizeof(float);\n",
        "\n",
        "    float A[N], B[N], C[N];\n",
        "    float *d_a, *d_b, *d_c;\n",
        "\n",
        "    // Allocate memory on host\n",
        "    cudaMalloc(&d_a,  size);\n",
        "    cudaMalloc(&d_b,  size);\n",
        "    cudaMalloc(&d_c,  size);\n",
        "\n",
        "    // Copy from host to device\n",
        "    cudaMemcpy(d_a, A, size, cudaMemcpyHostToDevice);\n",
        "    cudaMemcpy(d_b, B, size, cudaMemcpyHostToDevice);\n",
        "\n",
        "    // Load vecAdd kernel\n",
        "    int blocksize = 256;\n",
        "    int gridsize = ceil(N/blocksize);\n",
        "    vecAdd <<<gridsize, blocksize>>>(d_a, d_b, d_c, N);\n",
        "\n",
        "    // Copy from device to host\n",
        "    cudaMemcpy(C, d_c, size, cudaMemcpyDeviceToHost);\n",
        "\n",
        "    for(int i = N-10; i<N; i++){\n",
        "        std::cout << \"C[\" << i << \"] = \" << C[i] << std::endl;\n",
        "    }\n",
        "\n",
        "    // Free resources\n",
        "    cudaFree(d_a);\n",
        "    cudaFree(d_b);\n",
        "    cudaFree(d_c);\n",
        "\n",
        "\n",
        "\n",
        "}"
      ],
      "metadata": {
        "colab": {
          "base_uri": "https://localhost:8080/"
        },
        "id": "NUXVcc2lv0Ok",
        "outputId": "0adb33af-8516-40bd-fe9c-009721a50696"
      },
      "execution_count": 24,
      "outputs": [
        {
          "output_type": "stream",
          "name": "stdout",
          "text": [
            "C[1014] = 0\n",
            "C[1015] = 0\n",
            "C[1016] = 6.83264e-35\n",
            "C[1017] = 6.74305e-42\n",
            "C[1018] = 6.86667e-35\n",
            "C[1019] = 6.74305e-42\n",
            "C[1020] = 6.72623e-44\n",
            "C[1021] = 0\n",
            "C[1022] = 6.8607e-35\n",
            "C[1023] = 6.74305e-42\n",
            "\n"
          ]
        }
      ]
    },
    {
      "cell_type": "code",
      "source": [],
      "metadata": {
        "id": "xQW8WKfT1zj0"
      },
      "execution_count": null,
      "outputs": []
    }
  ]
}