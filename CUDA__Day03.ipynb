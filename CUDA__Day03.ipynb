{
  "nbformat": 4,
  "nbformat_minor": 0,
  "metadata": {
    "colab": {
      "provenance": [],
      "gpuType": "T4",
      "authorship_tag": "ABX9TyOaTunCma9c34sBtueKkdQx",
      "include_colab_link": true
    },
    "kernelspec": {
      "name": "python3",
      "display_name": "Python 3"
    },
    "language_info": {
      "name": "python"
    },
    "accelerator": "GPU"
  },
  "cells": [
    {
      "cell_type": "markdown",
      "metadata": {
        "id": "view-in-github",
        "colab_type": "text"
      },
      "source": [
        "<a href=\"https://colab.research.google.com/github/sanjivch/100-days-of-gpu/blob/main/CUDA__Day03.ipynb\" target=\"_parent\"><img src=\"https://colab.research.google.com/assets/colab-badge.svg\" alt=\"Open In Colab\"/></a>"
      ]
    },
    {
      "cell_type": "code",
      "execution_count": 4,
      "metadata": {
        "colab": {
          "base_uri": "https://localhost:8080/"
        },
        "id": "Cikt-Cg4FEtf",
        "outputId": "bd9eddcc-f30b-494d-fdce-8e54ac10085d"
      },
      "outputs": [
        {
          "output_type": "stream",
          "name": "stdout",
          "text": [
            "Python 3.11.11\n",
            "nvcc: NVIDIA (R) Cuda compiler driver\n",
            "Copyright (c) 2005-2024 NVIDIA Corporation\n",
            "Built on Thu_Jun__6_02:18:23_PDT_2024\n",
            "Cuda compilation tools, release 12.5, V12.5.82\n",
            "Build cuda_12.5.r12.5/compiler.34385749_0\n",
            "Collecting nvcc4jupyter\n",
            "  Downloading nvcc4jupyter-1.2.1-py3-none-any.whl.metadata (5.1 kB)\n",
            "Downloading nvcc4jupyter-1.2.1-py3-none-any.whl (10 kB)\n",
            "Installing collected packages: nvcc4jupyter\n",
            "Successfully installed nvcc4jupyter-1.2.1\n"
          ]
        }
      ],
      "source": [
        "                                                                                                                                                                                                                                                                                                                                                                                                                                                                                                                                                                             !python --version\n",
        "!nvcc --version\n",
        "!pip install nvcc4jupyter"
      ]
    },
    {
      "cell_type": "code",
      "source": [
        "%load_ext nvcc4jupyter"
      ],
      "metadata": {
        "colab": {
          "base_uri": "https://localhost:8080/"
        },
        "id": "rtYTeKY1FIjW",
        "outputId": "c056ef88-1240-405d-944d-827304651152"
      },
      "execution_count": 5,
      "outputs": [
        {
          "output_type": "stream",
          "name": "stdout",
          "text": [
            "Detected platform \"Colab\". Running its setup...\n",
            "Source files will be saved in \"/tmp/tmp_a14u0td\".\n"
          ]
        }
      ]
    },
    {
      "cell_type": "code",
      "source": [
        "%%cuda\n",
        "#include <iostream>\n",
        "\n",
        "__global__ void vecMatMul(const float* A, const float* B, float* C, int N) {\n",
        "    int i = blockIdx.x * blockDim.x + threadIdx.x;\n",
        "\n",
        "    if (i < N) { // guard block\n",
        "      float sum=0.0f;\n",
        "      for (int j = 0; j < N; j++) {\n",
        "         sum += A[i*N + j]*B[j];\n",
        "      }\n",
        "      C[i]=sum;\n",
        "}}\n",
        "\n",
        "int main() {\n",
        "    //initialize the matrix\n",
        "    const int N = 10;\n",
        "    float *A, *B, *C;\n",
        "\n",
        "    // Initialize matrices/ vector\n",
        "    A = (float *)malloc( N*N* sizeof(float));\n",
        "    B = (float *)malloc(N*sizeof(float));\n",
        "    C = (float *)malloc(N*sizeof(float));\n",
        "\n",
        "    // Assign variables\n",
        "    for (int i = 0; i < N; i++)\n",
        "    {\n",
        "        for (int j = 0; j < N; j++)\n",
        "        {\n",
        "            A[i * N + j] = 1.0f;\n",
        "        }\n",
        "        B[i] = 2.0f;\n",
        "        C[i] = 0.0f;\n",
        "    }\n",
        "\n",
        "    float *d_a, *d_b,*d_c;\n",
        "\n",
        "    //Allocate memory\n",
        "    cudaMalloc(&d_a, N * N * sizeof(float));\n",
        "    cudaMalloc(&d_b, N * sizeof(float));\n",
        "    cudaMalloc(&d_c, N * sizeof(float));\n",
        "\n",
        "    // Move to device\n",
        "    cudaMemcpy(d_a, A, N * N * sizeof(float), cudaMemcpyHostToDevice);\n",
        "    cudaMemcpy(d_b, B, N * sizeof(float), cudaMemcpyHostToDevice);\n",
        "\n",
        "    // Launch kernel - Define blocksize and gridsize\n",
        "    int blocksize=256;\n",
        "    int gridsize = (N + blocksize - 1) / blocksize;\n",
        "    vecMatMul<<<gridsize,blocksize>>>(d_a, d_b, d_c, N);\n",
        "\n",
        "    cudaDeviceSynchronize();\n",
        "    cudaMemcpy(C,d_c,N*sizeof(float),cudaMemcpyDeviceToHost);\n",
        "\n",
        "    printf(\"A, B, C:\\n\");\n",
        "    for (int i = 0; i < N; i++) {\n",
        "        for (int j = 0; j < N; j++) {\n",
        "\n",
        "            printf(\"%.2f \", A[i * N + j]);\n",
        "            printf(\"%.2f \", B[i ]);\n",
        "             printf(\"%.2f \", C[i ]);\n",
        "        }\n",
        "        printf(\"\\n\");\n",
        "    }\n",
        "\n",
        "\n",
        "\n",
        "\n",
        "    // Free resources\n",
        "    cudaFree(d_a);\n",
        "    cudaFree(d_b);\n",
        "    cudaFree(d_c);\n",
        "\n",
        "}"
      ],
      "metadata": {
        "colab": {
          "base_uri": "https://localhost:8080/"
        },
        "id": "zXt4Qia7FMxZ",
        "outputId": "890f3145-b7f8-4252-9036-55eeb8a98f06"
      },
      "execution_count": 6,
      "outputs": [
        {
          "output_type": "stream",
          "name": "stdout",
          "text": [
            "A, B, C:\n",
            "1.00 2.00 0.00 1.00 2.00 0.00 1.00 2.00 0.00 1.00 2.00 0.00 1.00 2.00 0.00 1.00 2.00 0.00 1.00 2.00 0.00 1.00 2.00 0.00 1.00 2.00 0.00 1.00 2.00 0.00 \n",
            "1.00 2.00 0.00 1.00 2.00 0.00 1.00 2.00 0.00 1.00 2.00 0.00 1.00 2.00 0.00 1.00 2.00 0.00 1.00 2.00 0.00 1.00 2.00 0.00 1.00 2.00 0.00 1.00 2.00 0.00 \n",
            "1.00 2.00 0.00 1.00 2.00 0.00 1.00 2.00 0.00 1.00 2.00 0.00 1.00 2.00 0.00 1.00 2.00 0.00 1.00 2.00 0.00 1.00 2.00 0.00 1.00 2.00 0.00 1.00 2.00 0.00 \n",
            "1.00 2.00 0.00 1.00 2.00 0.00 1.00 2.00 0.00 1.00 2.00 0.00 1.00 2.00 0.00 1.00 2.00 0.00 1.00 2.00 0.00 1.00 2.00 0.00 1.00 2.00 0.00 1.00 2.00 0.00 \n",
            "1.00 2.00 0.00 1.00 2.00 0.00 1.00 2.00 0.00 1.00 2.00 0.00 1.00 2.00 0.00 1.00 2.00 0.00 1.00 2.00 0.00 1.00 2.00 0.00 1.00 2.00 0.00 1.00 2.00 0.00 \n",
            "1.00 2.00 0.00 1.00 2.00 0.00 1.00 2.00 0.00 1.00 2.00 0.00 1.00 2.00 0.00 1.00 2.00 0.00 1.00 2.00 0.00 1.00 2.00 0.00 1.00 2.00 0.00 1.00 2.00 0.00 \n",
            "1.00 2.00 0.00 1.00 2.00 0.00 1.00 2.00 0.00 1.00 2.00 0.00 1.00 2.00 0.00 1.00 2.00 0.00 1.00 2.00 0.00 1.00 2.00 0.00 1.00 2.00 0.00 1.00 2.00 0.00 \n",
            "1.00 2.00 0.00 1.00 2.00 0.00 1.00 2.00 0.00 1.00 2.00 0.00 1.00 2.00 0.00 1.00 2.00 0.00 1.00 2.00 0.00 1.00 2.00 0.00 1.00 2.00 0.00 1.00 2.00 0.00 \n",
            "1.00 2.00 0.00 1.00 2.00 0.00 1.00 2.00 0.00 1.00 2.00 0.00 1.00 2.00 0.00 1.00 2.00 0.00 1.00 2.00 0.00 1.00 2.00 0.00 1.00 2.00 0.00 1.00 2.00 0.00 \n",
            "1.00 2.00 0.00 1.00 2.00 0.00 1.00 2.00 0.00 1.00 2.00 0.00 1.00 2.00 0.00 1.00 2.00 0.00 1.00 2.00 0.00 1.00 2.00 0.00 1.00 2.00 0.00 1.00 2.00 0.00 \n",
            "\n"
          ]
        }
      ]
    },
    {
      "cell_type": "code",
      "source": [],
      "metadata": {
        "id": "TEIkeaZlJTtW"
      },
      "execution_count": null,
      "outputs": []
    }
  ]
}