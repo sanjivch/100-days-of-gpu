{
  "nbformat": 4,
  "nbformat_minor": 0,
  "metadata": {
    "colab": {
      "provenance": [],
      "gpuType": "T4",
      "authorship_tag": "ABX9TyP8LuuP2pl/P0bw8lmsgurX",
      "include_colab_link": true
    },
    "kernelspec": {
      "name": "python3",
      "display_name": "Python 3"
    },
    "language_info": {
      "name": "python"
    },
    "accelerator": "GPU"
  },
  "cells": [
    {
      "cell_type": "markdown",
      "metadata": {
        "id": "view-in-github",
        "colab_type": "text"
      },
      "source": [
        "<a href=\"https://colab.research.google.com/github/sanjivch/100-days-of-gpu/blob/main/CUDA__Day04.ipynb\" target=\"_parent\"><img src=\"https://colab.research.google.com/assets/colab-badge.svg\" alt=\"Open In Colab\"/></a>"
      ]
    },
    {
      "cell_type": "code",
      "execution_count": 1,
      "metadata": {
        "colab": {
          "base_uri": "https://localhost:8080/"
        },
        "id": "Cikt-Cg4FEtf",
        "outputId": "bab6fada-55a0-4e4c-f78e-5e004267aaff"
      },
      "outputs": [
        {
          "output_type": "stream",
          "name": "stdout",
          "text": [
            "Python 3.11.11\n",
            "nvcc: NVIDIA (R) Cuda compiler driver\n",
            "Copyright (c) 2005-2024 NVIDIA Corporation\n",
            "Built on Thu_Jun__6_02:18:23_PDT_2024\n",
            "Cuda compilation tools, release 12.5, V12.5.82\n",
            "Build cuda_12.5.r12.5/compiler.34385749_0\n",
            "Collecting nvcc4jupyter\n",
            "  Downloading nvcc4jupyter-1.2.1-py3-none-any.whl.metadata (5.1 kB)\n",
            "Downloading nvcc4jupyter-1.2.1-py3-none-any.whl (10 kB)\n",
            "Installing collected packages: nvcc4jupyter\n",
            "Successfully installed nvcc4jupyter-1.2.1\n"
          ]
        }
      ],
      "source": [
        "                                                                                                                                                                                                                                                                                                                                                                                                                                                                                                                                                                             !python --version\n",
        "!nvcc --version\n",
        "!pip install nvcc4jupyter"
      ]
    },
    {
      "cell_type": "code",
      "source": [
        "%load_ext nvcc4jupyter"
      ],
      "metadata": {
        "colab": {
          "base_uri": "https://localhost:8080/"
        },
        "id": "rtYTeKY1FIjW",
        "outputId": "0702022c-8404-4f31-fe24-a672267853ed"
      },
      "execution_count": 2,
      "outputs": [
        {
          "output_type": "stream",
          "name": "stdout",
          "text": [
            "Detected platform \"Colab\". Running its setup...\n",
            "Source files will be saved in \"/tmp/tmpewjfu540\".\n"
          ]
        }
      ]
    },
    {
      "cell_type": "code",
      "source": [
        "%%cuda\n",
        "#include<iostream>\n",
        "\n",
        "__global__ void matMul(float* A, float* B, float* C, int N) {\n",
        "    int row = blockIdx.y * blockDim.y + threadIdx.y;\n",
        "    int col = blockIdx.x * blockDim.x + threadIdx.x;\n",
        "\n",
        "    if (row < N && col < N) {\n",
        "        float value = 0;\n",
        "        for (int i = 0; i < N; ++i) {\n",
        "            value += A[row * N + i] * B[i * N + col];\n",
        "        }\n",
        "        C[row * N + col] = value;\n",
        "    }\n",
        "}\n",
        "\n",
        "\n",
        "\n",
        "int main() {\n",
        "    int N = 10;\n",
        "    int size = N * N * sizeof(float);\n",
        "    float *A, *B, *C;\n",
        "\n",
        "    // Initialize matrices/ vector\n",
        "    A = (float *)malloc(N*N* sizeof(float));\n",
        "    B = (float *)malloc(N*N*sizeof(float));\n",
        "    C = (float *)malloc(N*N*sizeof(float));\n",
        "\n",
        "    // Assign variables\n",
        "    for (int i = 0; i < N; i++)\n",
        "    {\n",
        "        for (int j = 0; j < N; j++)\n",
        "        {\n",
        "            A[i * N + j] = 10.0f;\n",
        "            B[i * N + j] = 2.0f;\n",
        "            C[i * N + j] = 0.0f;\n",
        "        }\n",
        "\n",
        "    }\n",
        "    float *d_A, *d_B, *d_C;\n",
        "\n",
        "    // Allocate memory\n",
        "    cudaMalloc(&d_A, N * N * sizeof(float));\n",
        "    cudaMalloc(&d_B, N * N * sizeof(float));\n",
        "    cudaMalloc(&d_C, N * N * sizeof(float));\n",
        "\n",
        "    // Move to device\n",
        "    cudaMemcpy(d_A, A, size, cudaMemcpyHostToDevice);\n",
        "    cudaMemcpy(d_B, B, size, cudaMemcpyHostToDevice);\n",
        "\n",
        "    // Load kernel\n",
        "    dim3 dimBlock(32, 32);\n",
        "    dim3 dimGrid((N + 32 - 1) / 32, (N + 32 - 1) / 32);\n",
        "\n",
        "\n",
        "\n",
        "    matMul<<<dimGrid, dimBlock>>>(d_C, d_A, d_B, N);\n",
        "\n",
        "    // From device to host\n",
        "    cudaMemcpy(C, d_C, size, cudaMemcpyDeviceToHost);\n",
        "\n",
        "\n",
        "     for (int i = 0; i < N; i++) {\n",
        "        for (int j = 0; j < N; j++) {\n",
        "\n",
        "            printf(\"%.2f \", A[i * N + j]);\n",
        "            printf(\"%.2f \", B[i * N + j ]);\n",
        "             printf(\"%.2f \", C[i* N + j ]);\n",
        "        }\n",
        "        printf(\"\\n\");\n",
        "    }\n",
        "\n",
        "    // Free resources\n",
        "    cudaFree(d_A);\n",
        "    cudaFree(d_B);\n",
        "    cudaFree(d_C);\n",
        "\n",
        "    return 0;\n",
        "}\n"
      ],
      "metadata": {
        "colab": {
          "base_uri": "https://localhost:8080/"
        },
        "id": "zXt4Qia7FMxZ",
        "outputId": "c7023a70-4a41-4fb8-cda5-19a30fdf20af"
      },
      "execution_count": 9,
      "outputs": [
        {
          "output_type": "stream",
          "name": "stdout",
          "text": [
            "10.00 2.00 0.00 10.00 2.00 0.00 10.00 2.00 0.00 10.00 2.00 0.00 10.00 2.00 0.00 10.00 2.00 0.00 10.00 2.00 0.00 10.00 2.00 0.00 10.00 2.00 0.00 10.00 2.00 0.00 \n",
            "10.00 2.00 0.00 10.00 2.00 0.00 10.00 2.00 0.00 10.00 2.00 0.00 10.00 2.00 0.00 10.00 2.00 0.00 10.00 2.00 0.00 10.00 2.00 0.00 10.00 2.00 0.00 10.00 2.00 0.00 \n",
            "10.00 2.00 0.00 10.00 2.00 0.00 10.00 2.00 0.00 10.00 2.00 0.00 10.00 2.00 0.00 10.00 2.00 0.00 10.00 2.00 0.00 10.00 2.00 0.00 10.00 2.00 0.00 10.00 2.00 0.00 \n",
            "10.00 2.00 0.00 10.00 2.00 0.00 10.00 2.00 0.00 10.00 2.00 0.00 10.00 2.00 0.00 10.00 2.00 0.00 10.00 2.00 0.00 10.00 2.00 0.00 10.00 2.00 0.00 10.00 2.00 0.00 \n",
            "10.00 2.00 0.00 10.00 2.00 0.00 10.00 2.00 0.00 10.00 2.00 0.00 10.00 2.00 0.00 10.00 2.00 0.00 10.00 2.00 0.00 10.00 2.00 0.00 10.00 2.00 0.00 10.00 2.00 0.00 \n",
            "10.00 2.00 0.00 10.00 2.00 0.00 10.00 2.00 0.00 10.00 2.00 0.00 10.00 2.00 0.00 10.00 2.00 0.00 10.00 2.00 0.00 10.00 2.00 0.00 10.00 2.00 0.00 10.00 2.00 0.00 \n",
            "10.00 2.00 0.00 10.00 2.00 0.00 10.00 2.00 0.00 10.00 2.00 0.00 10.00 2.00 0.00 10.00 2.00 0.00 10.00 2.00 0.00 10.00 2.00 0.00 10.00 2.00 0.00 10.00 2.00 0.00 \n",
            "10.00 2.00 0.00 10.00 2.00 0.00 10.00 2.00 0.00 10.00 2.00 0.00 10.00 2.00 0.00 10.00 2.00 0.00 10.00 2.00 0.00 10.00 2.00 0.00 10.00 2.00 0.00 10.00 2.00 0.00 \n",
            "10.00 2.00 0.00 10.00 2.00 0.00 10.00 2.00 0.00 10.00 2.00 0.00 10.00 2.00 0.00 10.00 2.00 0.00 10.00 2.00 0.00 10.00 2.00 0.00 10.00 2.00 0.00 10.00 2.00 0.00 \n",
            "10.00 2.00 0.00 10.00 2.00 0.00 10.00 2.00 0.00 10.00 2.00 0.00 10.00 2.00 0.00 10.00 2.00 0.00 10.00 2.00 0.00 10.00 2.00 0.00 10.00 2.00 0.00 10.00 2.00 0.00 \n",
            "\n"
          ]
        }
      ]
    },
    {
      "cell_type": "code",
      "source": [],
      "metadata": {
        "id": "TEIkeaZlJTtW"
      },
      "execution_count": null,
      "outputs": []
    }
  ]
}